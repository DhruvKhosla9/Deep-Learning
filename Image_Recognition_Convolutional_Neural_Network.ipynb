{
 "cells": [
  {
   "cell_type": "code",
   "execution_count": 1,
   "id": "0393a442",
   "metadata": {},
   "outputs": [],
   "source": [
    "import tensorflow as tf\n",
    "from keras.preprocessing.image import ImageDataGenerator"
   ]
  },
  {
   "cell_type": "code",
   "execution_count": 2,
   "id": "b41a00de",
   "metadata": {},
   "outputs": [
    {
     "data": {
      "text/plain": [
       "'2.9.1'"
      ]
     },
     "execution_count": 2,
     "metadata": {},
     "output_type": "execute_result"
    }
   ],
   "source": [
    "tf.__version__"
   ]
  },
  {
   "cell_type": "code",
   "execution_count": 4,
   "id": "52202e75",
   "metadata": {},
   "outputs": [
    {
     "name": "stdout",
     "output_type": "stream",
     "text": [
      "Found 8000 images belonging to 3 classes.\n"
     ]
    }
   ],
   "source": [
    "train_datagen = ImageDataGenerator(rescale = 1./255,\n",
    "                                   shear_range = 0.2,\n",
    "                                   zoom_range = 0.2,\n",
    "                                   horizontal_flip = True)\n",
    "training_set = train_datagen.flow_from_directory('/Users/dhruvkhosla/Downloads/CNN Dataset/training_set',\n",
    "                                                 target_size = (64, 64),\n",
    "                                                 batch_size = 32,\n",
    "                                                 class_mode = 'binary')"
   ]
  },
  {
   "cell_type": "code",
   "execution_count": 5,
   "id": "3d1cf8c7",
   "metadata": {},
   "outputs": [
    {
     "name": "stdout",
     "output_type": "stream",
     "text": [
      "Found 2000 images belonging to 2 classes.\n"
     ]
    }
   ],
   "source": [
    "test_datagen = ImageDataGenerator(rescale = 1./255)\n",
    "test_set = test_datagen.flow_from_directory('/Users/dhruvkhosla/Downloads/CNN Dataset/test_set',\n",
    "                                            target_size = (64, 64),\n",
    "                                            batch_size = 32,\n",
    "                                            class_mode = 'binary')\n"
   ]
  },
  {
   "cell_type": "code",
   "execution_count": 6,
   "id": "d0205bdb",
   "metadata": {},
   "outputs": [],
   "source": [
    "cnn = tf.keras.models.Sequential()\n"
   ]
  },
  {
   "cell_type": "code",
   "execution_count": 7,
   "id": "f51ea761",
   "metadata": {},
   "outputs": [],
   "source": [
    "cnn.add(tf.keras.layers.Conv2D(filters=32, kernel_size=3, activation='relu', input_shape=[64, 64, 3]))"
   ]
  },
  {
   "cell_type": "code",
   "execution_count": 8,
   "id": "1e89f861",
   "metadata": {},
   "outputs": [],
   "source": [
    "cnn.add(tf.keras.layers.MaxPool2D(pool_size=2, strides=2))"
   ]
  },
  {
   "cell_type": "code",
   "execution_count": 9,
   "id": "63851526",
   "metadata": {},
   "outputs": [],
   "source": [
    "cnn.add(tf.keras.layers.Conv2D(filters=32, kernel_size=3, activation='relu'))\n",
    "cnn.add(tf.keras.layers.MaxPool2D(pool_size=2, strides=2))"
   ]
  },
  {
   "cell_type": "code",
   "execution_count": 10,
   "id": "adf40967",
   "metadata": {},
   "outputs": [],
   "source": [
    "cnn.add(tf.keras.layers.Flatten())"
   ]
  },
  {
   "cell_type": "code",
   "execution_count": 11,
   "id": "12bd7a7b",
   "metadata": {},
   "outputs": [],
   "source": [
    "cnn.add(tf.keras.layers.Dense(units=128, activation='relu'))"
   ]
  },
  {
   "cell_type": "code",
   "execution_count": 12,
   "id": "8e9b9a3f",
   "metadata": {},
   "outputs": [],
   "source": [
    "cnn.add(tf.keras.layers.Dense(units=1, activation='sigmoid'))"
   ]
  },
  {
   "cell_type": "code",
   "execution_count": 13,
   "id": "db7bb582",
   "metadata": {},
   "outputs": [],
   "source": [
    "cnn.compile(optimizer = 'adam', loss = 'binary_crossentropy', metrics = ['accuracy'])"
   ]
  },
  {
   "cell_type": "code",
   "execution_count": 14,
   "id": "9182f874",
   "metadata": {},
   "outputs": [
    {
     "name": "stdout",
     "output_type": "stream",
     "text": [
      "Epoch 1/25\n",
      "250/250 [==============================] - 87s 344ms/step - loss: -8897534.0000 - accuracy: 0.4985 - val_loss: 51939252.0000 - val_accuracy: 0.5000\n",
      "Epoch 2/25\n",
      "250/250 [==============================] - 86s 345ms/step - loss: -422082752.0000 - accuracy: 0.5000 - val_loss: 1147531136.0000 - val_accuracy: 0.5000\n",
      "Epoch 3/25\n",
      "250/250 [==============================] - 84s 335ms/step - loss: -3188011520.0000 - accuracy: 0.5000 - val_loss: 6128811520.0000 - val_accuracy: 0.5000\n",
      "Epoch 4/25\n",
      "250/250 [==============================] - 84s 338ms/step - loss: -11889022976.0000 - accuracy: 0.5000 - val_loss: 19062243328.0000 - val_accuracy: 0.5000\n",
      "Epoch 5/25\n",
      "250/250 [==============================] - 85s 338ms/step - loss: -30883239936.0000 - accuracy: 0.5000 - val_loss: 44401364992.0000 - val_accuracy: 0.5000\n",
      "Epoch 6/25\n",
      "250/250 [==============================] - 83s 333ms/step - loss: -65030983680.0000 - accuracy: 0.5000 - val_loss: 87236296704.0000 - val_accuracy: 0.5000\n",
      "Epoch 7/25\n",
      "250/250 [==============================] - 82s 330ms/step - loss: -119519854592.0000 - accuracy: 0.5000 - val_loss: 152700305408.0000 - val_accuracy: 0.5000\n",
      "Epoch 8/25\n",
      "250/250 [==============================] - 87s 346ms/step - loss: -199369785344.0000 - accuracy: 0.5000 - val_loss: 245592244224.0000 - val_accuracy: 0.5000\n",
      "Epoch 9/25\n",
      "250/250 [==============================] - 84s 337ms/step - loss: -309172273152.0000 - accuracy: 0.5000 - val_loss: 370362482688.0000 - val_accuracy: 0.5000\n",
      "Epoch 10/25\n",
      "250/250 [==============================] - 84s 335ms/step - loss: -453740789760.0000 - accuracy: 0.5000 - val_loss: 531255689216.0000 - val_accuracy: 0.5000\n",
      "Epoch 11/25\n",
      "250/250 [==============================] - 88s 350ms/step - loss: -638306484224.0000 - accuracy: 0.5000 - val_loss: 734044291072.0000 - val_accuracy: 0.5000\n",
      "Epoch 12/25\n",
      "250/250 [==============================] - 84s 335ms/step - loss: -866146910208.0000 - accuracy: 0.5000 - val_loss: 981611773952.0000 - val_accuracy: 0.5000\n",
      "Epoch 13/25\n",
      "250/250 [==============================] - 83s 334ms/step - loss: -1142578348032.0000 - accuracy: 0.5000 - val_loss: 1280027656192.0000 - val_accuracy: 0.5000\n",
      "Epoch 14/25\n",
      "250/250 [==============================] - 84s 334ms/step - loss: -1472370180096.0000 - accuracy: 0.5000 - val_loss: 1632715931648.0000 - val_accuracy: 0.5000\n",
      "Epoch 15/25\n",
      "250/250 [==============================] - 85s 339ms/step - loss: -1859226828800.0000 - accuracy: 0.5000 - val_loss: 2043502657536.0000 - val_accuracy: 0.5000\n",
      "Epoch 16/25\n",
      "250/250 [==============================] - 84s 337ms/step - loss: -2306899705856.0000 - accuracy: 0.5000 - val_loss: 2516467843072.0000 - val_accuracy: 0.5000\n",
      "Epoch 17/25\n",
      "250/250 [==============================] - 84s 336ms/step - loss: -2822388056064.0000 - accuracy: 0.5000 - val_loss: 3058676793344.0000 - val_accuracy: 0.5000\n",
      "Epoch 18/25\n",
      "250/250 [==============================] - 93s 371ms/step - loss: -3410450972672.0000 - accuracy: 0.5000 - val_loss: 3672548573184.0000 - val_accuracy: 0.5000\n",
      "Epoch 19/25\n",
      "250/250 [==============================] - 87s 349ms/step - loss: -4066495692800.0000 - accuracy: 0.5000 - val_loss: 4358422659072.0000 - val_accuracy: 0.5000\n",
      "Epoch 20/25\n",
      "250/250 [==============================] - 84s 335ms/step - loss: -4805519474688.0000 - accuracy: 0.5000 - val_loss: 5125207228416.0000 - val_accuracy: 0.5000\n",
      "Epoch 21/25\n",
      "250/250 [==============================] - 84s 336ms/step - loss: -5619759185920.0000 - accuracy: 0.5000 - val_loss: 5980249128960.0000 - val_accuracy: 0.5000\n",
      "Epoch 22/25\n",
      "250/250 [==============================] - 84s 335ms/step - loss: -6536411742208.0000 - accuracy: 0.5000 - val_loss: 6925308657664.0000 - val_accuracy: 0.5000\n",
      "Epoch 23/25\n",
      "250/250 [==============================] - 85s 338ms/step - loss: -7545200050176.0000 - accuracy: 0.5000 - val_loss: 7963052343296.0000 - val_accuracy: 0.5000\n",
      "Epoch 24/25\n",
      "250/250 [==============================] - 83s 333ms/step - loss: -8652218957824.0000 - accuracy: 0.5000 - val_loss: 9098091298816.0000 - val_accuracy: 0.5000\n",
      "Epoch 25/25\n",
      "250/250 [==============================] - 84s 337ms/step - loss: -9854884249600.0000 - accuracy: 0.5000 - val_loss: 10343555268608.0000 - val_accuracy: 0.5000\n"
     ]
    },
    {
     "data": {
      "text/plain": [
       "<keras.callbacks.History at 0x7f885e8200d0>"
      ]
     },
     "execution_count": 14,
     "metadata": {},
     "output_type": "execute_result"
    }
   ],
   "source": [
    "cnn.fit(x = training_set, validation_data = test_set, epochs = 25)"
   ]
  },
  {
   "cell_type": "code",
   "execution_count": 15,
   "id": "4cf48b6e",
   "metadata": {},
   "outputs": [
    {
     "name": "stdout",
     "output_type": "stream",
     "text": [
      "1/1 [==============================] - 0s 326ms/step\n"
     ]
    }
   ],
   "source": [
    "import numpy as np\n",
    "from tensorflow.keras.preprocessing import image\n",
    "test_image = image.load_img('/Users/dhruvkhosla/Downloads/CNN Dataset/single_prediction/cat_or_dog_2.jpg', target_size = (64, 64))\n",
    "test_image = image.img_to_array(test_image)\n",
    "test_image = np.expand_dims(test_image, axis = 0)\n",
    "result = cnn.predict(test_image)\n",
    "training_set.class_indices\n",
    "if result[0][0] == 1:\n",
    "  prediction = 'dog'\n",
    "else:\n",
    "  prediction = 'cat'\n"
   ]
  },
  {
   "cell_type": "code",
   "execution_count": 16,
   "id": "87cad2d4",
   "metadata": {},
   "outputs": [
    {
     "name": "stdout",
     "output_type": "stream",
     "text": [
      "dog\n"
     ]
    }
   ],
   "source": [
    "print(prediction)"
   ]
  },
  {
   "cell_type": "code",
   "execution_count": null,
   "id": "6ab41a0a",
   "metadata": {},
   "outputs": [],
   "source": []
  }
 ],
 "metadata": {
  "kernelspec": {
   "display_name": "Python 3",
   "language": "python",
   "name": "python3"
  },
  "language_info": {
   "codemirror_mode": {
    "name": "ipython",
    "version": 3
   },
   "file_extension": ".py",
   "mimetype": "text/x-python",
   "name": "python",
   "nbconvert_exporter": "python",
   "pygments_lexer": "ipython3",
   "version": "3.8.8"
  }
 },
 "nbformat": 4,
 "nbformat_minor": 5
}
